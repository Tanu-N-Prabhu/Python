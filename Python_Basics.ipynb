{
 "cells": [
  {
   "cell_type": "markdown",
   "id": "3fe2b72d-d3c1-4360-92d3-893b0684dd99",
   "metadata": {},
   "source": [
    "## **Understanding Data, Variables & Expressions in Python**\n",
    "About the Course:\n",
    "This course introduces fundamental programming concepts in Python including \n",
    "* Data types \n",
    "* Values\n",
    "* variables\n",
    "* Expressions, and\n",
    "* Statements.\n",
    "\n",
    "It's designed as a beginner-friendly module and lays the groundwork for understanding how Python handles data. Simple practical examples, like printing messages or evaluating data types, help reinforce core principles.\n",
    "\n",
    "## Goal\n",
    "* To understand how Python interprets and manipulates different data types.\n",
    "\n",
    "* To learn how variables are declared and used.\n",
    "\n",
    "* To explore expressions, statements, and operators.\n",
    "\n",
    "* To build foundational programming knowledge for more advanced data science tasks.\n",
    "\n",
    "## Dataset / Input Details\n",
    "This project does not use an external dataset. Instead, it uses hardcoded inputs and interactive statements to explain concepts such as:\n",
    "\n",
    "* Data values and types\n",
    "\n",
    "* Standard input and output\n",
    "\n",
    "* Type casting\n",
    "\n",
    "* Expression evaluation\n",
    "\n",
    "## Methodologies\n",
    "The following key topics were covered using live code examples and markdown explanations:\n",
    "\n",
    "1.0. Data Types:  Integer, Float, String, Boolean\n",
    "\n",
    "1.1 Variables\n",
    "\n",
    "1.2 Order of Operations\n",
    "\n",
    "1.3 Typecasting/Conversion\n",
    "\n",
    "1.4 Statements and Expressions \n",
    "\n",
    "1.5 Standard Output\n",
    "\n",
    "1.6 Escape Sequences\n",
    "\n",
    "1.7 Dynamic Typing\n",
    "\n",
    "1.8 Computation: Operators and Operands\n",
    "\n",
    "1.9 Standard Input\n",
    "\n",
    "1.10 Skills learnt\n",
    "\n",
    "1.11 Exercises\n",
    "\n",
    "\n"
   ]
  },
  {
   "cell_type": "markdown",
   "id": "d654f3f6-3216-4489-81b3-308526e4ca90",
   "metadata": {},
   "source": [
    "### 1.0 DATA TYPE: Checking the type of values"
   ]
  },
  {
   "cell_type": "code",
   "execution_count": 1,
   "id": "ceda0afa-9a37-454a-a6fc-08620328f77f",
   "metadata": {},
   "outputs": [
    {
     "data": {
      "text/plain": [
       "int"
      ]
     },
     "execution_count": 1,
     "metadata": {},
     "output_type": "execute_result"
    }
   ],
   "source": [
    "# Integer\n",
    "\n",
    "type(100)"
   ]
  },
  {
   "cell_type": "code",
   "execution_count": 3,
   "id": "48984c27-eef1-49c5-a4c6-a473dfa12ffe",
   "metadata": {},
   "outputs": [
    {
     "data": {
      "text/plain": [
       "float"
      ]
     },
     "execution_count": 3,
     "metadata": {},
     "output_type": "execute_result"
    }
   ],
   "source": [
    "# Float\n",
    "type(99.99)"
   ]
  },
  {
   "cell_type": "code",
   "execution_count": 4,
   "id": "fe5bb367-d235-4f59-977d-65bf22578e53",
   "metadata": {},
   "outputs": [
    {
     "data": {
      "text/plain": [
       "str"
      ]
     },
     "execution_count": 4,
     "metadata": {},
     "output_type": "execute_result"
    }
   ],
   "source": [
    "# String\n",
    "\n",
    "type('hello')"
   ]
  },
  {
   "cell_type": "code",
   "execution_count": 5,
   "id": "734061ac-68dc-4278-ba0c-9c89bb159e03",
   "metadata": {},
   "outputs": [
    {
     "data": {
      "text/plain": [
       "bool"
      ]
     },
     "execution_count": 5,
     "metadata": {},
     "output_type": "execute_result"
    }
   ],
   "source": [
    "# Boolean-True or False\n",
    "\n",
    "type(True)"
   ]
  },
  {
   "cell_type": "markdown",
   "id": "cfeaae5e-5966-43f1-96b4-76ae7187eb0d",
   "metadata": {},
   "source": [
    "## 1.1 VARIABLES\n",
    "\n",
    "Variables are identifiers or like containers used to store values for easy manipulation and referencing\n",
    "\n",
    "**NOTE:**\n",
    "- Variables must be defined/declared before you can use it\n",
    "   \n",
    "- Variables can't be keyword -- what are the built-in keywords?\n",
    "\n",
    "- They can start with only alphabets or underscore ( _ )\n",
    "\n",
    "- They can't have symbols such as $, %, &, white space, etc.\n",
    "\n",
    "- CamelCase or Underscore conventions can be used for_multi_word_names\n"
   ]
  },
  {
   "cell_type": "code",
   "execution_count": 11,
   "id": "70fdc68f-4061-443a-8009-1bbf13478014",
   "metadata": {},
   "outputs": [
    {
     "name": "stdout",
     "output_type": "stream",
     "text": [
      "I love python programming language\n"
     ]
    }
   ],
   "source": [
    "# To define a variable x and print the data inside the variable\n",
    "x = \"I love python programming language\"\n",
    "\n",
    "print(x)"
   ]
  },
  {
   "cell_type": "code",
   "execution_count": 13,
   "id": "9e2c3b80-9db1-46e6-9a2c-d49adc253ff1",
   "metadata": {},
   "outputs": [
    {
     "name": "stdout",
     "output_type": "stream",
     "text": [
      "Nicholas\n",
      "Data Scientist/Technical writer\n",
      "Single\n",
      "Canada\n"
     ]
    }
   ],
   "source": [
    "# More examples\n",
    "Name = 'Nicholas'\n",
    "Profession = \"Data Scientist/Technical writer\"\n",
    "MaritalStatus = \"Single\"\n",
    "Dream_Country = \"Canada\"\n",
    "\n",
    "print(Name)\n",
    "print(Profession)\n",
    "print(MaritalStatus)\n",
    "print(Dream_Country)"
   ]
  },
  {
   "cell_type": "markdown",
   "id": "227142c9-1561-4a25-8e2c-79edf3f242f3",
   "metadata": {},
   "source": [
    "## 1.2 ORDER OF OPERATIONS\n",
    "\n",
    "This depends on the rules of precedence, Use the BODMAS rule from high to low order\n",
    "\n",
    "BOMAS implies :\n",
    "\n",
    "- Bracket\n",
    "- of (multiplication)\n",
    "- Division (left to right)\n",
    "- Multiplication\n",
    "- Addition\n",
    "- Subtraction"
   ]
  },
  {
   "cell_type": "code",
   "execution_count": 15,
   "id": "34343f68-0ee7-4e36-aff1-df26cb6623ef",
   "metadata": {},
   "outputs": [
    {
     "name": "stdout",
     "output_type": "stream",
     "text": [
      "29.0\n"
     ]
    }
   ],
   "source": [
    "# Example\n",
    "\n",
    "print(2 * 3 + 5 ** 2 - 4 / 2)"
   ]
  },
  {
   "cell_type": "markdown",
   "id": "4816aa67-18b4-456c-a7e4-c8d589af8b77",
   "metadata": {},
   "source": [
    "## 1.3 TYPECASTING/CONVERSION\n",
    "Data needs to be converted from one type to another as needed using built-in functions such as str(), int(), and float();\n",
    "\n",
    "this process is called type casting\n",
    "\n",
    "- str(value) - It converts any value into string\n",
    "\n",
    "- int(value) - It converts numeric value into int\n",
    "\n",
    "- int(value) - It converts numeric value into float"
   ]
  },
  {
   "cell_type": "code",
   "execution_count": 31,
   "id": "47d07ab9-9716-4eba-9ab0-318e8851169f",
   "metadata": {},
   "outputs": [
    {
     "name": "stdout",
     "output_type": "stream",
     "text": [
      "42\n",
      "<class 'int'>\n"
     ]
    }
   ],
   "source": [
    "# STRING to NUMBER (int)\n",
    "string_num = \"42\"\n",
    "converted_num = int(string_num)\n",
    "\n",
    "print(converted_num)\n",
    "print(type(converted_num))"
   ]
  },
  {
   "cell_type": "code",
   "execution_count": 37,
   "id": "db63c55e-1c6e-4739-99a3-f31cc58fe45d",
   "metadata": {},
   "outputs": [
    {
     "name": "stdout",
     "output_type": "stream",
     "text": [
      "123\n",
      "<class 'str'>\n"
     ]
    }
   ],
   "source": [
    "# NUMBER(Int)TO STRING\n",
    "\n",
    "number = 123\n",
    "converted_string = str(number)\n",
    "print(converted_string)       # Output: \"123\"\n",
    "print(type(converted_string)) # Output: <class 'str'>"
   ]
  },
  {
   "cell_type": "code",
   "execution_count": 34,
   "id": "8444109a-4ba7-4cac-bf9b-8146777f8a3d",
   "metadata": {},
   "outputs": [
    {
     "name": "stdout",
     "output_type": "stream",
     "text": [
      "3\n",
      "<class 'int'>\n"
     ]
    }
   ],
   "source": [
    "float_num = 3.99\n",
    "converted_int = int(float_num)\n",
    "print(converted_int)       # Output: 3\n",
    "print(type(converted_int)) # Output: <class 'int'>"
   ]
  },
  {
   "cell_type": "code",
   "execution_count": 38,
   "id": "0d8b722f-bdea-4166-9183-ab66077d077d",
   "metadata": {},
   "outputs": [
    {
     "data": {
      "text/plain": [
       "bool"
      ]
     },
     "execution_count": 38,
     "metadata": {},
     "output_type": "execute_result"
    }
   ],
   "source": [
    "type(True)\n",
    "type(False)"
   ]
  },
  {
   "cell_type": "markdown",
   "id": "f99a416c-00b0-4d6a-a067-b2f159ea629f",
   "metadata": {},
   "source": [
    "## 1.4 STATEMENTS AND EXPRESSIONS\n",
    "- A statement is an instruction that performs an action. It doesn't necessarily return a value\n",
    "- An expression is any piece of code that returns a value\n",
    "expressions are evaluated giving a results"
   ]
  },
  {
   "cell_type": "code",
   "execution_count": 40,
   "id": "c1d0d550-838f-420f-b4e6-f80348f47965",
   "metadata": {},
   "outputs": [
    {
     "name": "stdout",
     "output_type": "stream",
     "text": [
      "Hello World!\n"
     ]
    }
   ],
   "source": [
    "# Statement example\n",
    "\n",
    "print(\"Hello World!\")"
   ]
  },
  {
   "cell_type": "code",
   "execution_count": 41,
   "id": "e745666c-9a2c-47e0-b2f8-db94879422bb",
   "metadata": {},
   "outputs": [
    {
     "name": "stdout",
     "output_type": "stream",
     "text": [
      "7\n"
     ]
    }
   ],
   "source": [
    "result = 2 + 5\n",
    "print(result)"
   ]
  },
  {
   "cell_type": "markdown",
   "id": "88319ee6-6e70-4c9b-bbf8-6dc7405d0c49",
   "metadata": {},
   "source": [
    "## 1.5 STANDARD OUTPUT(stdout) \n",
    "This the default place where the program sends output data, typically the console or terminal.\n",
    "\n",
    "- The most common way to send output to stdout is using the print() function.\n",
    "\n",
    "- Common Standard Output Examples"
   ]
  },
  {
   "cell_type": "code",
   "execution_count": 43,
   "id": "278ea971-5170-4f4f-b655-a3cd2f8b032f",
   "metadata": {},
   "outputs": [
    {
     "name": "stdout",
     "output_type": "stream",
     "text": [
      "Hello, World!\n"
     ]
    }
   ],
   "source": [
    "# Printing a string\n",
    "\n",
    "print(\"Hello, World!\")"
   ]
  },
  {
   "cell_type": "code",
   "execution_count": 44,
   "id": "e28000f2-1d12-4c64-a5be-728c01704c80",
   "metadata": {},
   "outputs": [
    {
     "name": "stdout",
     "output_type": "stream",
     "text": [
      "42\n"
     ]
    }
   ],
   "source": [
    "# Printing numbers\n",
    "\n",
    "print(42)"
   ]
  },
  {
   "cell_type": "code",
   "execution_count": 46,
   "id": "54a6b025-648f-403e-afa4-99cc1ae46506",
   "metadata": {},
   "outputs": [
    {
     "name": "stdout",
     "output_type": "stream",
     "text": [
      "Name: Nicholas Age: 30\n"
     ]
    }
   ],
   "source": [
    "# Printing multiple values\n",
    "\n",
    "name = \"Nicholas\"\n",
    "age = 30\n",
    "print(\"Name:\", name, \"Age:\", age)"
   ]
  },
  {
   "cell_type": "code",
   "execution_count": 48,
   "id": "557218d7-839b-4acd-a0d3-bef454f0dbf3",
   "metadata": {},
   "outputs": [
    {
     "name": "stdout",
     "output_type": "stream",
     "text": [
      "My score is 95\n"
     ]
    }
   ],
   "source": [
    "# Formatted output using f-strings\n",
    "\n",
    "score = 95\n",
    "print(f\"My score is {score}\")"
   ]
  },
  {
   "cell_type": "code",
   "execution_count": 56,
   "id": "c96b69c2-d61e-4e5a-bc50-e6c310ce97f6",
   "metadata": {},
   "outputs": [
    {
     "name": "stdout",
     "output_type": "stream",
     "text": [
      "I love data science!"
     ]
    }
   ],
   "source": [
    "# Printing with custom separators and end characters\n",
    "\n",
    "print(\"I love\", \"data science\", sep=\" \", end=\"!\")"
   ]
  },
  {
   "cell_type": "markdown",
   "id": "4dda422c-d61b-482c-9ebe-6a6ac54df82c",
   "metadata": {},
   "source": [
    "## 1.6 ESCAPE SEQUENCES\n",
    "\n",
    "Escape Sequences: Special characters used inside strings to represent things like newlines, tabs, or quotes — usually starting with a backslash (\\).\n",
    "\n",
    "**NOTE:**\n",
    "\n",
    "- Some letters or sequences of letters have special meaning to Python\n",
    "- Single, double, and triple single or double quotes represent string data\n",
    "- Use backslash \\ to represent these escape sequences, e.g.,\n",
    "\n",
    "     -  \\n - new line\n",
    "\n",
    "     -  \\ - back slash\n",
    "\n",
    "     -  \\t - tab\n",
    "\n",
    "     -  \\r - carriage return\n",
    "\n",
    "     -  \\' - single quote\n",
    "\n",
    "     -  \\\" - double quote\n",
    "\n"
   ]
  },
  {
   "cell_type": "code",
   "execution_count": 59,
   "id": "4275622e-d6c9-4ee0-b452-b448457ea2b8",
   "metadata": {},
   "outputs": [
    {
     "name": "stdout",
     "output_type": "stream",
     "text": [
      "Hello\n",
      "World\n",
      "Name:\tNicholas\n",
      "He said, \"Python is fun!\"\n",
      "Path: C:\\Users\\Nicholas\n"
     ]
    }
   ],
   "source": [
    "# Common Escape Sequences with Examples:\n",
    "\n",
    "#1. Newline (\\n) – Moves to a new line\n",
    "print(\"Hello\\nWorld\")\n",
    "\n",
    "#2. Tab (\\t) – Inserts a horizontal tab\n",
    "print(\"Name:\\tNicholas\")\n",
    "\n",
    "#3. Double Quote (\\\") – Allows double quotes inside a string\n",
    "print(\"He said, \\\"Python is fun!\\\"\")\n",
    "\n",
    "#4. Backslash (\\\\) – Inserts a backslash\n",
    "print(\"Path: C:\\\\Users\\\\Nicholas\")\n"
   ]
  },
  {
   "cell_type": "markdown",
   "id": "d37181d0-7705-43e8-9b58-b6251a7f09c4",
   "metadata": {},
   "source": [
    "## 1.7 DYNAMIC TYPING: \n",
    "- Here, there is no need to declare the type of a variable when you create it.\n",
    "- Python automatically detects the variable's type at runtime, based on the assigned value.\n",
    "- Type is determined during execution, not in advance.\n",
    "- A variable can be used to store different data types at different times."
   ]
  },
  {
   "cell_type": "code",
   "execution_count": 63,
   "id": "ec05b6af-0c64-4b76-bed9-3deb93194732",
   "metadata": {},
   "outputs": [
    {
     "name": "stdout",
     "output_type": "stream",
     "text": [
      "3.14\n"
     ]
    }
   ],
   "source": [
    "# Examples of Dynamic Typing\n",
    "\n",
    "x = 10          # x is an integer\n",
    "x = \"Hello\"     # x is now a string\n",
    "x = 3.14        # x is now a float\n",
    "\n",
    "print(x)"
   ]
  },
  {
   "cell_type": "markdown",
   "id": "a939d42c-8feb-4bbf-bfca-a011b2c827bc",
   "metadata": {},
   "source": [
    "## 1.8 COMPUTATION: OPERATORS AND OPERANDS\n",
    "\n",
    "In programming, computation refers to performing mathematical or logical operations using operators and operands.\n",
    "\n",
    "- Operators are special tokens/symbols that represent computations like addition, multiplication, division, comparison etc\n",
    " \n",
    "- Types of Operators in Python:                           \n",
    "\n",
    "   - Arithmetic\t       \n",
    " \n",
    "   - Assignment\t\n",
    " \n",
    "   - Comparison\t\n",
    " \n",
    "   - Logical\t   \n",
    " \n",
    "   - Bitwise\t\n",
    " \n",
    "   - Membership\t\n",
    " \n",
    "   - Identity\t        \n",
    "\n",
    "- Examples\t\n",
    "\n",
    "  - addition: 10 + 20\n",
    "  \n",
    "  - subtraction: 20 - 10\n",
    "  \n",
    "  - true division: 10 / 3\n",
    "  \n",
    "  - multiplication: 7 * 9\n",
    "  \n",
    "  - integer division: 10 // 3\n",
    "  \n",
    "  - remainder or modulus operator: 10 % 2\n",
    "  \n",
    "  - power: 2 ** 3\n",
    "  \n",
    " - OPERANDS: An operand is a value or variable on which the operator acts. In the example below, x and y are operands while + is an operator\n",
    "\n",
    "   Check the examples below:"
   ]
  },
  {
   "cell_type": "code",
   "execution_count": 68,
   "id": "dc725230-c790-4698-8843-d50ba6d46fb1",
   "metadata": {},
   "outputs": [
    {
     "data": {
      "text/plain": [
       "15"
      ]
     },
     "execution_count": 68,
     "metadata": {},
     "output_type": "execute_result"
    }
   ],
   "source": [
    "# Example include:\n",
    "x = 10\n",
    "y = 5\n",
    "z = x + y\n",
    "print(z)"
   ]
  },
  {
   "cell_type": "code",
   "execution_count": 78,
   "id": "b099a892-4976-498b-af0b-a63753e4edcf",
   "metadata": {},
   "outputs": [
    {
     "name": "stdout",
     "output_type": "stream",
     "text": [
      "12\n"
     ]
    }
   ],
   "source": [
    "# Arithmetic\n",
    "a = 6\n",
    "b = 2\n",
    "print(a * b)  # 12"
   ]
  },
  {
   "cell_type": "code",
   "execution_count": 73,
   "id": "929267fa-dbbc-4e35-a5d2-1eab94c8ab08",
   "metadata": {},
   "outputs": [
    {
     "name": "stdout",
     "output_type": "stream",
     "text": [
      "True\n"
     ]
    }
   ],
   "source": [
    "# Comparison\n",
    "\n",
    "print(a > b)  "
   ]
  },
  {
   "cell_type": "code",
   "execution_count": 74,
   "id": "17b677ba-41ff-4496-86d0-120e709d62a8",
   "metadata": {},
   "outputs": [
    {
     "name": "stdout",
     "output_type": "stream",
     "text": [
      "True\n"
     ]
    }
   ],
   "source": [
    "# Logical\n",
    "\n",
    "print(a > b and b < 5)  # True"
   ]
  },
  {
   "cell_type": "code",
   "execution_count": 79,
   "id": "f010b4fd-7b51-4ea5-aa70-53220b9e1da0",
   "metadata": {},
   "outputs": [],
   "source": [
    "# Assignment\n",
    "a += 3  # Same as a = a + 3\n"
   ]
  },
  {
   "cell_type": "markdown",
   "id": "c06842cc-f000-404d-9be6-80002d16ffa9",
   "metadata": {},
   "source": [
    "## 1.9 Standard input\n",
    "Standard input means taking input from the user via the keyboard, usually using the input() function.\n",
    "\n",
    "- Note:\n",
    "  - input() always returns a string.\n",
    "  - You must cast it if you need a number: int(), float(), etc.\n",
    "  - read data from standard or common input such as keyboards\n",
    "  - allows your program to receive data during program execution facilitating user interactions\n",
    "  - You can convert it to a number using int() or float() if needed."
   ]
  },
  {
   "cell_type": "code",
   "execution_count": 2,
   "id": "85423b58-7776-4585-a88e-1f30e90dcbfc",
   "metadata": {},
   "outputs": [
    {
     "name": "stdin",
     "output_type": "stream",
     "text": [
      "What is your name?  Nick\n"
     ]
    }
   ],
   "source": [
    "name = input('What is your name? ')"
   ]
  },
  {
   "cell_type": "code",
   "execution_count": 1,
   "id": "b78b3038-ffb5-4555-bfae-96825eb935cf",
   "metadata": {},
   "outputs": [
    {
     "name": "stdin",
     "output_type": "stream",
     "text": [
      "Enter a number => 4\n"
     ]
    },
    {
     "name": "stdout",
     "output_type": "stream",
     "text": [
      "You entered:  4\n",
      "type of 4 = <class 'str'>\n"
     ]
    }
   ],
   "source": [
    "num = input('Enter a number =>')\n",
    "print('You entered: ', num)\n",
    "print('type of', bnum, '=', type(num))"
   ]
  },
  {
   "cell_type": "markdown",
   "id": "257119d4-1924-4fde-acb4-4d031fde33fe",
   "metadata": {},
   "source": [
    "## 1.10 Skills you will develop in this course\n",
    "  - Understanding Python's data model (int, float, str, bool)\n",
    "\n",
    "  - Writing valid expressions and assigning variables\n",
    "\n",
    "  - Type checking and debugging\n",
    "\n",
    "  - Building basic user interaction programs\n",
    "\n",
    "  - Grasping foundational logic used in all Python-based projects\n",
    "  \n",
    "  - Writing in Jupyter Notebook using LaTex syntax"
   ]
  },
  {
   "cell_type": "markdown",
   "id": "af0d11de-19b7-424a-aab2-aec5f23633cf",
   "metadata": {},
   "source": [
    " ## 1.11 Exercises\n",
    " ## 1. Area and perimeter of a rectangle\n",
    "   - write a python script that calculates area and perimeter of a rectangle\n",
    "    "
   ]
  },
  {
   "cell_type": "code",
   "execution_count": null,
   "id": "5e9cc347-d1ca-4331-9eb5-9a22eef0c212",
   "metadata": {},
   "outputs": [],
   "source": [
    "# Demonstrate composition step by step\n",
    "# Algorithm steps\n",
    "# 1. Get length and width of a rectangle\n",
    "#     a. hard coded values OR\n",
    "#     b. prompt user to enter length and width values\n",
    "#        i. convert length and width into right data types\n",
    "# 2. Find area = length x width\n",
    "# 3. Find perimeter = 2(length + width)\n",
    "# 4. Display calculated results"
   ]
  },
  {
   "cell_type": "markdown",
   "id": "6fee3979-01c4-4bff-9a13-bca096ff5a12",
   "metadata": {},
   "source": [
    "## 2. Area and circumference of a circle\n",
    " - write a python script that calculates area and circumference of a circle\n",
    " - area of a circle is calculated using equation: $A = \\pi r^2$\n",
    " - perimeter of a circel is calculated using equation: $C = 2\\pi r$\n",
    "\n",
    "**NOTE**: You can use $\\pi = 3.14159$"
   ]
  }
 ],
 "metadata": {
  "kernelspec": {
   "display_name": "Python 3 (ipykernel)",
   "language": "python",
   "name": "python3"
  },
  "language_info": {
   "codemirror_mode": {
    "name": "ipython",
    "version": 3
   },
   "file_extension": ".py",
   "mimetype": "text/x-python",
   "name": "python",
   "nbconvert_exporter": "python",
   "pygments_lexer": "ipython3",
   "version": "3.12.7"
  }
 },
 "nbformat": 4,
 "nbformat_minor": 5
}
