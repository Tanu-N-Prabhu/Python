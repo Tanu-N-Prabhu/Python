{
 "cells": [
  {
   "cell_type": "markdown",
   "metadata": {},
   "source": [
    "# Quantitative Finance with Python\n",
    "\n",
    "This notebook demonstrates the usage of various quantitative finance functions implemented in `financial_utils.py`. We'll cover:\n",
    "\n",
    "1. Time Value of Money Calculations\n",
    "2. Investment Performance Metrics\n",
    "3. Risk Measures\n",
    "4. Options Pricing\n",
    "\n",
    "Fixes #36"
   ]
  },
  {
   "cell_type": "code",
   "execution_count": null,
   "metadata": {},
   "source": [
    "from financial_utils import *\n",
    "import numpy as np\n",
    "import matplotlib.pyplot as plt"
   ]
  },
  {
   "cell_type": "markdown",
   "metadata": {},
   "source": [
    "## 1. Time Value of Money\n",
    "\n",
    "Let's explore how money changes value over time using Present Value (PV) and Future Value (FV) calculations."
   ]
  },
  {
   "cell_type": "code",
   "execution_count": null,
   "metadata": {},
   "source": [
    "# Example: Calculate present value of $10,000 received in 5 years with 5% interest rate\n",
    "future_amount = 10000\n",
    "rate = 0.05\n",
    "years = 5\n",
    "\n",
    "pv = present_value(future_amount, rate, years)\n",
    "print(f\"Present value of ${future_amount:,} in {years} years at {rate:.1%} interest: ${pv:,.2f}\")\n",
    "\n",
    "# Verify with future value calculation\n",
    "fv = future_value(pv, rate, years)\n",
    "print(f\"Future value verification: ${fv:,.2f}\")"
   ]
  },
  {
   "cell_type": "markdown",
   "metadata": {},
   "source": [
    "## 2. Investment Performance Analysis\n",
    "\n",
    "Let's analyze a series of stock prices and calculate returns."
   ]
  },
  {
   "cell_type": "code",
   "execution_count": null,
   "metadata": {},
   "source": [
    "# Sample stock price data\n",
    "stock_prices = [100, 102, 99, 105, 103, 106, 109, 108, 110, 112]\n",
    "\n",
    "# Calculate returns\n",
    "returns = calculate_returns(stock_prices)\n",
    "\n",
    "# Plot the prices and returns\n",
    "fig, (ax1, ax2) = plt.subplots(2, 1, figsize=(10, 8))\n",
    "\n",
    "ax1.plot(stock_prices, marker='o')\n",
    "ax1.set_title('Stock Price Over Time')\n",
    "ax1.set_ylabel('Price ($)')\n",
    "\n",
    "ax2.bar(range(len(returns)), [r * 100 for r in returns])\n",
    "ax2.set_title('Daily Returns')\n",
    "ax2.set_ylabel('Return (%)')\n",
    "\n",
    "plt.tight_layout()\n",
    "plt.show()"
   ]
  },
  {
   "cell_type": "markdown",
   "metadata": {},
   "source": [
    "## 3. Risk Analysis\n",
    "\n",
    "Let's calculate some risk metrics including the Sharpe Ratio and Beta."
   ]
  },
  {
   "cell_type": "code",
   "execution_count": null,
   "metadata": {},
   "source": [
    "# Calculate Sharpe ratio\n",
    "risk_free_rate = 0.02  # 2% annual risk-free rate\n",
    "sharpe = sharpe_ratio(returns, risk_free_rate)\n",
    "print(f\"Sharpe Ratio: {sharpe:.2f}\")\n",
    "\n",
    "# Calculate Beta using simulated market returns\n",
    "market_returns = [0.01, -0.005, 0.02, 0.015, -0.01, 0.02, 0.01, -0.005, 0.015]\n",
    "beta_value = beta(returns, market_returns)\n",
    "print(f\"Beta: {beta_value:.2f}\")"
   ]
  },
  {
   "cell_type": "markdown",
   "metadata": {},
   "source": [
    "## 4. Options Pricing\n",
    "\n",
    "Let's explore option pricing using the Black-Scholes model."
   ]
  },
  {
   "cell_type": "code",
   "execution_count": null,
   "metadata": {},
   "source": [
    "# Parameters for Black-Scholes\n",
    "S = 100  # Current stock price\n",
    "K = 100  # Strike price\n",
    "T = 1.0  # Time to expiration (1 year)\n",
    "r = 0.05  # Risk-free rate (5%)\n",
    "sigma = 0.2  # Volatility (20%)\n",
    "\n",
    "# Calculate call and put option prices\n",
    "call_price = black_scholes(S, K, T, r, sigma, 'call')\n",
    "put_price = black_scholes(S, K, T, r, sigma, 'put')\n",
    "\n",
    "print(f\"Call Option Price: ${call_price:.2f}\")\n",
    "print(f\"Put Option Price: ${put_price:.2f}\")\n",
    "\n",
    "# Plot option prices for different strike prices\n",
    "strikes = np.linspace(80, 120, 41)\n",
    "call_prices = [black_scholes(S, k, T, r, sigma, 'call') for k in strikes]\n",
    "put_prices = [black_scholes(S, k, T, r, sigma, 'put') for k in strikes]\n",
    "\n",
    "plt.figure(figsize=(10, 6))\n",
    "plt.plot(strikes, call_prices, label='Call Option')\n",
    "plt.plot(strikes, put_prices, label='Put Option')\n",
    "plt.axvline(x=S, color='gray', linestyle='--', alpha=0.5)\n",
    "plt.xlabel('Strike Price')\n",
    "plt.ylabel('Option Price')\n",
    "plt.title('Option Prices vs Strike Price')\n",
    "plt.legend()\n",
    "plt.grid(True)\n",
    "plt.show()"
   ]
  }
 ],
 "metadata": {
  "kernelspec": {
   "display_name": "Python 3",
   "language": "python",
   "name": "python3"
  },
  "language_info": {
   "codemirror_mode": {
    "name": "ipython",
    "version": 3
   },
   "file_extension": ".py",
   "mimetype": "text/x-python",
   "name": "python",
   "nbconvert_exporter": "python",
   "pygments_lexer": "ipython3",
   "version": "3.8.0"
  }
 },
 "nbformat": 4,
 "nbformat_minor": 4
}